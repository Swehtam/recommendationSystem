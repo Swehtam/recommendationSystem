{
 "cells": [
  {
   "cell_type": "markdown",
   "metadata": {},
   "source": [
    "# Purchase-based Recommendation System\n",
    "## Based on Moorissa Tjokro tutorial\n",
    "### Coded by Rebeca Bivar - DB: Armazem Paraíba"
   ]
  },
  {
   "cell_type": "markdown",
   "metadata": {},
   "source": [
    "### Imports and reading file"
   ]
  },
  {
   "cell_type": "code",
   "execution_count": 1,
   "metadata": {},
   "outputs": [],
   "source": [
    "import pandas as pd\n",
    "import numpy as np\n",
    "import matplotlib.pyplot as plt\n",
    "import turicreate as tc\n",
    "from sklearn.model_selection import train_test_split\n",
    "from sklearn.metrics import accuracy_score"
   ]
  },
  {
   "cell_type": "code",
   "execution_count": 23,
   "metadata": {},
   "outputs": [
    {
     "data": {
      "text/html": [
       "<div>\n",
       "<style scoped>\n",
       "    .dataframe tbody tr th:only-of-type {\n",
       "        vertical-align: middle;\n",
       "    }\n",
       "\n",
       "    .dataframe tbody tr th {\n",
       "        vertical-align: top;\n",
       "    }\n",
       "\n",
       "    .dataframe thead th {\n",
       "        text-align: right;\n",
       "    }\n",
       "</style>\n",
       "<table border=\"1\" class=\"dataframe\">\n",
       "  <thead>\n",
       "    <tr style=\"text-align: right;\">\n",
       "      <th></th>\n",
       "      <th>COD_CLIENTE</th>\n",
       "      <th>COD_PRODUTO</th>\n",
       "      <th>NOME_PRODUTO</th>\n",
       "      <th>QUANTIDADE</th>\n",
       "      <th>CANAL</th>\n",
       "    </tr>\n",
       "  </thead>\n",
       "  <tbody>\n",
       "    <tr>\n",
       "      <th>0</th>\n",
       "      <td>5190001</td>\n",
       "      <td>25172</td>\n",
       "      <td>SMARTPHONE LG K9 TV LM-X210BMW PRETO</td>\n",
       "      <td>1</td>\n",
       "      <td>VENDAWEB</td>\n",
       "    </tr>\n",
       "    <tr>\n",
       "      <th>1</th>\n",
       "      <td>37578201</td>\n",
       "      <td>25367</td>\n",
       "      <td>TABLET NB729 MINI MS40G BRANCO</td>\n",
       "      <td>1</td>\n",
       "      <td>VENDAWEB</td>\n",
       "    </tr>\n",
       "    <tr>\n",
       "      <th>2</th>\n",
       "      <td>93168801</td>\n",
       "      <td>25354</td>\n",
       "      <td>TELEVISOR SMART 32\" UN32J4290 SAMSUNG</td>\n",
       "      <td>1</td>\n",
       "      <td>VENDAWEB</td>\n",
       "    </tr>\n",
       "    <tr>\n",
       "      <th>3</th>\n",
       "      <td>62982901</td>\n",
       "      <td>26584</td>\n",
       "      <td>SMARTPHONE MOTOROLA MOTO G8 PLUS 64GB CEREJA</td>\n",
       "      <td>1</td>\n",
       "      <td>VENDAWEB</td>\n",
       "    </tr>\n",
       "    <tr>\n",
       "      <th>4</th>\n",
       "      <td>54509401</td>\n",
       "      <td>21647</td>\n",
       "      <td>DVD D-15 KARAOKE MONDIAL</td>\n",
       "      <td>1</td>\n",
       "      <td>VENDAWEB</td>\n",
       "    </tr>\n",
       "  </tbody>\n",
       "</table>\n",
       "</div>"
      ],
      "text/plain": [
       "  COD_CLIENTE  COD_PRODUTO                                   NOME_PRODUTO  \\\n",
       "0     5190001        25172  SMARTPHONE LG K9 TV LM-X210BMW PRETO            \n",
       "1    37578201        25367  TABLET NB729 MINI MS40G BRANCO                  \n",
       "2    93168801        25354  TELEVISOR SMART 32\" UN32J4290 SAMSUNG           \n",
       "3    62982901        26584  SMARTPHONE MOTOROLA MOTO G8 PLUS 64GB CEREJA    \n",
       "4    54509401        21647  DVD D-15 KARAOKE MONDIAL                        \n",
       "\n",
       "   QUANTIDADE     CANAL  \n",
       "0           1  VENDAWEB  \n",
       "1           1  VENDAWEB  \n",
       "2           1  VENDAWEB  \n",
       "3           1  VENDAWEB  \n",
       "4           1  VENDAWEB  "
      ]
     },
     "execution_count": 23,
     "metadata": {},
     "output_type": "execute_result"
    }
   ],
   "source": [
    "#READING A FILE WITH ONLY CLIENTS, PRODUCTS BOUGHT AND QTDE\n",
    "buyers = pd.read_csv('data_final.csv', sep=';')\n",
    "buyers.head()\n"
   ]
  },
  {
   "cell_type": "markdown",
   "metadata": {},
   "source": [
    "##  Data preparation\n",
    "### Creating dummy table to check if the client has bought a product or not"
   ]
  },
  {
   "cell_type": "code",
   "execution_count": 3,
   "metadata": {},
   "outputs": [],
   "source": [
    "def create_data_dummy(db):\n",
    "    data_dummy = db.copy()\n",
    "    data_dummy['purchase_dummy'] = 1\n",
    "    return data_dummy\n",
    "\n",
    "data_dummy = create_data_dummy(buyers)\n",
    "#data_dummy\n"
   ]
  },
  {
   "cell_type": "markdown",
   "metadata": {},
   "source": [
    "### Normalizing purchase frequency of each item across users "
   ]
  },
  {
   "cell_type": "code",
   "execution_count": 4,
   "metadata": {},
   "outputs": [],
   "source": [
    "#Dummy for marking whether a customer bought that item or not\n",
    "\n",
    "df_matrix = pd.pivot_table(buyers, values = 'QUANTIDADE', index = 'COD_CLIENTE', columns = 'COD_PRODUTO')\n",
    "\n",
    "\n",
    "df_matrix_norm = (df_matrix-df_matrix.min())/(df_matrix.max()-df_matrix.min())\n",
    "\n",
    "# create a table for input to the modeling  \n",
    "data_input = df_matrix_norm.reset_index()\n",
    "data_input.index.names = ['FREQ_COMPRAS']\n",
    "data_norm = pd.melt(data_input, id_vars=['COD_CLIENTE'], \n",
    "                    value_name='FREQ_COMPRAS')\n",
    "\n",
    "#print(data_norm.shape)\n",
    "#data_norm.head()"
   ]
  },
  {
   "cell_type": "code",
   "execution_count": 5,
   "metadata": {},
   "outputs": [],
   "source": [
    "#Just cleaning useless values \n",
    "data_norm = data_norm.dropna()\n",
    "#data_norm"
   ]
  },
  {
   "cell_type": "markdown",
   "metadata": {},
   "source": [
    "### Split data into trainning and testing (80/20)"
   ]
  },
  {
   "cell_type": "code",
   "execution_count": 7,
   "metadata": {},
   "outputs": [
    {
     "name": "stdout",
     "output_type": "stream",
     "text": [
      "Train/Test Split done!\n"
     ]
    }
   ],
   "source": [
    "\n",
    "# Returns train and test datasets as scalable dfs\n",
    "def split_data(data):\n",
    "    train, test = train_test_split(data, test_size = .2)\n",
    "    train_data = tc.SFrame(train)\n",
    "    test_data = tc.SFrame(test)\n",
    "    return train_data, test_data\n",
    "\n",
    "# Now actually splitting purchase_counts, purchase_dummy and purchase_counts_norm\n",
    "train_data, test_data = split_data(buyers)\n",
    "train_data_dummy, test_data_dummy = split_data(data_dummy)\n",
    "train_data_norm, test_data_norm = split_data(data_norm)\n",
    "print(\"Train/Test Split done!\")"
   ]
  },
  {
   "cell_type": "markdown",
   "metadata": {},
   "source": [
    "## Baseline model to compare and evaluate models\n"
   ]
  },
  {
   "cell_type": "code",
   "execution_count": 8,
   "metadata": {},
   "outputs": [],
   "source": [
    "# variables to define field names: \n",
    "user_id = 'COD_CLIENTE'\n",
    "item_id = 'COD_PRODUTO'\n",
    "item_name = 'NOME_PRODUTO'\n",
    "users_to_recommend = list(buyers[user_id])\n",
    "n_recommendation = 10 # itens to recommend\n",
    "n_display = 30 # display the first few rows in an output dataset\n",
    "\n",
    "# Function for all models using turicreate\n",
    "def model(train_data, name, user_id, item_id, target, \n",
    "          users_to_recommend, n_rec, n_display):\n",
    "    if name == 'popularity':\n",
    "        model = tc.popularity_recommender.create(train_data, \n",
    "                                                    user_id = user_id, \n",
    "                                                    item_id = item_id,\n",
    "                                                    target = target)\n",
    "    elif name == 'cosine':\n",
    "        model = tc.item_similarity_recommender.create(train_data, \n",
    "                                                    user_id=user_id, \n",
    "                                                    item_id=item_id, \n",
    "                                                    target=target, \n",
    "                                                    similarity_type='cosine')\n",
    "    elif name == 'pearson':\n",
    "        model = tc.item_similarity_recommender.create(train_data, \n",
    "                                                    user_id=user_id, \n",
    "                                                    item_id=item_id, \n",
    "                                                    target=target, \n",
    "                                                    similarity_type='pearson')\n",
    "        \n",
    "    recom = model.recommend(users=users_to_recommend, k=n_rec)\n",
    "    recom.print_rows(n_display)\n",
    "    return model"
   ]
  },
  {
   "cell_type": "markdown",
   "metadata": {},
   "source": [
    "### Popularity Model\n",
    "   Takes the most popular items for recommendation, which are the products with the highest number of sells across customers."
   ]
  },
  {
   "cell_type": "code",
   "execution_count": null,
   "metadata": {},
   "outputs": [],
   "source": [
    "name = 'popularity'\n",
    "target = 'QUANTIDADE'\n",
    "popularity = model(train_data, name, user_id, item_id, target, \n",
    "                   users_to_recommend, n_recommendation, n_display)\n",
    "popularity"
   ]
  },
  {
   "cell_type": "code",
   "execution_count": null,
   "metadata": {},
   "outputs": [],
   "source": [
    "name = 'popularity'\n",
    "target = 'purchase_dummy'\n",
    "pop_dummy = model(train_data_dummy, name, user_id, item_id, target, \n",
    "                   users_to_recommend, n_recommendation, n_display)"
   ]
  },
  {
   "cell_type": "markdown",
   "metadata": {},
   "source": [
    "### Using scaled purchase count "
   ]
  },
  {
   "cell_type": "code",
   "execution_count": null,
   "metadata": {},
   "outputs": [],
   "source": [
    "name = 'popularity'\n",
    "target = 'FREQ_COMPRAS'\n",
    "pop_norm = model(train_data_norm, name, user_id, item_id, target, \n",
    "                 users_to_recommend, n_recommendation, n_display)"
   ]
  },
  {
   "cell_type": "markdown",
   "metadata": {},
   "source": [
    "### Collaborative Filtering Model\n",
    "\n",
    "   Recommends items based on how similar clients purchase items. Meaning: if customer 1 and customer 2 bought similar items, for example, 1 bought X, Y, Z and 2 bought X, Y, we would recommend an item Z to customer 2.\n",
    "    \n",
    "   - Lets say X and Y have been rated by costumers 1 and 2. \n",
    "   - We then create two item-vectors for both items, then we find the **cosine** or **pearson** distance between these vectors. If the **cosine** value is 1, means total similarity, if it is 0, means no similarity.\n",
    "   - In this case, we will check the similarity between the target item and other items the customer already bought - using the client's purchase count to items already bought by him as weighing factor (some sort of simulated rating). "
   ]
  },
  {
   "cell_type": "markdown",
   "metadata": {},
   "source": [
    "### Using purchase count and purchase frequency\n",
    "### Cosine"
   ]
  },
  {
   "cell_type": "code",
   "execution_count": null,
   "metadata": {},
   "outputs": [],
   "source": [
    "name = 'cosine'\n",
    "target = 'QUANTIDADE'\n",
    "cos = model(train_data, name, user_id, item_id, target, \n",
    "            users_to_recommend, n_recommendation, n_display)"
   ]
  },
  {
   "cell_type": "code",
   "execution_count": null,
   "metadata": {},
   "outputs": [],
   "source": [
    "name = 'cosine'\n",
    "target = 'purchase_dummy'\n",
    "cos_dummy = model(train_data_dummy, name, user_id, item_id, target,\n",
    "                  users_to_recommend, n_recommendation, n_display)"
   ]
  },
  {
   "cell_type": "code",
   "execution_count": null,
   "metadata": {},
   "outputs": [],
   "source": [
    "name = 'cosine'\n",
    "target = 'FREQ_COMPRAS'\n",
    "cos_norm= model(train_data_norm, name, user_id, item_id, target, \n",
    "                   users_to_recommend, n_recommendation, n_display)\n"
   ]
  },
  {
   "cell_type": "markdown",
   "metadata": {},
   "source": [
    "### Using purchase count and purchase frequency\n",
    "### Pearson"
   ]
  },
  {
   "cell_type": "code",
   "execution_count": null,
   "metadata": {},
   "outputs": [],
   "source": [
    "# PURCHASE COUNT\n",
    "name = 'pearson'\n",
    "target = 'QUANTIDADE'\n",
    "pear = model(train_data, name, user_id, item_id, target,\n",
    "             users_to_recommend, n_recommendation, n_display)"
   ]
  },
  {
   "cell_type": "code",
   "execution_count": null,
   "metadata": {},
   "outputs": [],
   "source": [
    "# PURCHASE DUMMY\n",
    "name = 'pearson'\n",
    "target = 'purchase_dummy'\n",
    "pear_dummy = model(train_data_dummy, name, user_id, item_id, target,\n",
    "                   users_to_recommend, n_recommendation, n_display)"
   ]
  },
  {
   "cell_type": "code",
   "execution_count": null,
   "metadata": {},
   "outputs": [],
   "source": [
    "# PURCHASE FREQUENCY\n",
    "name = 'pearson'\n",
    "target = 'FREQ_COMPRAS'\n",
    "pear_norm = model(train_data_norm, name, user_id, item_id, target,\n",
    "                  users_to_recommend, n_recommendation, n_display)"
   ]
  },
  {
   "cell_type": "markdown",
   "metadata": {},
   "source": [
    "## Model Evaluation \n",
    "\n",
    "### RMSE - Root Mean Squared Errors\n",
    "\n",
    "   - Measures the error of predicted values\n",
    "   - Lesser the RMSE values, better the recommendations\n",
    "   \n",
    "### Precision-Recall\n",
    "\n",
    "   - Recall: Percentage of products that a customer buys that are actually recommended. \n",
    "   - Precision: How many itens the customer liked out of the recommended?\n",
    "   - The idea is to optimze both recall and precision to be close as 1 as possible\n"
   ]
  },
  {
   "cell_type": "code",
   "execution_count": null,
   "metadata": {},
   "outputs": [],
   "source": [
    "# Variables for model evaluation\n",
    "\n",
    "models_counts = [popularity, cos, pear]\n",
    "models_dummy = [pop_dummy, cos_dummy, pear_dummy]\n",
    "models_norm = [pop_norm, cos_norm, pear_norm]\n",
    "\n",
    "names_counts = ['Popularity Model on Purchase Counts', \n",
    "                  'Cosine Similarity on Purchase Counts', \n",
    "                  'Pearson Similarity on Purchase Counts']\n",
    "names_dummy = ['Popularity Model on Purchase Dummy', \n",
    "                 'Cosine Similarity on Purchase Dummy', \n",
    "                 'Pearson Similarity on Purchase Dummy']\n",
    "names_norm = ['Popularity Model on Scaled Purchase Counts', \n",
    "                'Cosine Similarity on Scaled Purchase Counts', \n",
    "                'Pearson Similarity on Scaled Purchase Counts']\n",
    "\n",
    "\n",
    "eval_counts = tc.recommender.util.compare_models(test_data, models_counts, \n",
    "                                                 model_names=names_counts)\n",
    "eval_dummy = tc.recommender.util.compare_models(test_data_dummy, models_dummy,\n",
    "                                                model_names=names_dummy)\n",
    "eval_norm = tc.recommender.util.compare_models(test_data_norm, models_norm, \n",
    "                                               model_names=names_norm)"
   ]
  },
  {
   "cell_type": "markdown",
   "metadata": {},
   "source": [
    "## Final Model\n",
    "\n",
    "### Cosine Similarity - Purchase Dummy"
   ]
  },
  {
   "cell_type": "code",
   "execution_count": null,
   "metadata": {},
   "outputs": [],
   "source": [
    "# variables to define field names: \n",
    "user_id = 'COD_CLIENTE'\n",
    "item_id = 'COD_PRODUTO'\n",
    "item_name = 'NOME_PRODUTO'\n",
    "users_to_recommend = list(buyers[user_id])\n",
    "n_recommendation = 10 # itens to recommend\n",
    "\n",
    "\n",
    "# Chosen model\n",
    "def recom_model(train_data, user_id, item_id, \n",
    "          users_to_recommend, n_rec):\n",
    "    model = tc.item_similarity_recommender.create(tc.SFrame(train_data),\n",
    "                                                   user_id = user_id,\n",
    "                                                   item_id = item_id,\n",
    "                                                   target = 'FREQ_COMPRAS',\n",
    "                                                   similarity_type='cosine')\n",
    "    recom = model.recommend(users=users_to_recommend, k=n_rec)\n",
    "    return recom\n",
    "\n",
    "\n",
    "recom = recom_model(data_norm, user_id, item_id, users_to_recommend, n_recommendation)\n",
    "#recom.print_rows(n_display)"
   ]
  },
  {
   "cell_type": "code",
   "execution_count": 14,
   "metadata": {},
   "outputs": [
    {
     "name": "stdout",
     "output_type": "stream",
     "text": [
      "(2910860, 4)\n"
     ]
    },
    {
     "data": {
      "text/html": [
       "<div>\n",
       "<style scoped>\n",
       "    .dataframe tbody tr th:only-of-type {\n",
       "        vertical-align: middle;\n",
       "    }\n",
       "\n",
       "    .dataframe tbody tr th {\n",
       "        vertical-align: top;\n",
       "    }\n",
       "\n",
       "    .dataframe thead th {\n",
       "        text-align: right;\n",
       "    }\n",
       "</style>\n",
       "<table border=\"1\" class=\"dataframe\">\n",
       "  <thead>\n",
       "    <tr style=\"text-align: right;\">\n",
       "      <th></th>\n",
       "      <th>COD_CLIENTE</th>\n",
       "      <th>COD_PRODUTO</th>\n",
       "      <th>score</th>\n",
       "      <th>rank</th>\n",
       "    </tr>\n",
       "  </thead>\n",
       "  <tbody>\n",
       "    <tr>\n",
       "      <th>0</th>\n",
       "      <td>5190001</td>\n",
       "      <td>18662</td>\n",
       "      <td>0.0</td>\n",
       "      <td>1</td>\n",
       "    </tr>\n",
       "    <tr>\n",
       "      <th>1</th>\n",
       "      <td>5190001</td>\n",
       "      <td>18247</td>\n",
       "      <td>0.0</td>\n",
       "      <td>2</td>\n",
       "    </tr>\n",
       "    <tr>\n",
       "      <th>2</th>\n",
       "      <td>5190001</td>\n",
       "      <td>17868</td>\n",
       "      <td>0.0</td>\n",
       "      <td>3</td>\n",
       "    </tr>\n",
       "    <tr>\n",
       "      <th>3</th>\n",
       "      <td>5190001</td>\n",
       "      <td>17591</td>\n",
       "      <td>0.0</td>\n",
       "      <td>4</td>\n",
       "    </tr>\n",
       "    <tr>\n",
       "      <th>4</th>\n",
       "      <td>5190001</td>\n",
       "      <td>17372</td>\n",
       "      <td>0.0</td>\n",
       "      <td>5</td>\n",
       "    </tr>\n",
       "  </tbody>\n",
       "</table>\n",
       "</div>"
      ],
      "text/plain": [
       "  COD_CLIENTE  COD_PRODUTO  score  rank\n",
       "0     5190001        18662    0.0     1\n",
       "1     5190001        18247    0.0     2\n",
       "2     5190001        17868    0.0     3\n",
       "3     5190001        17591    0.0     4\n",
       "4     5190001        17372    0.0     5"
      ]
     },
     "execution_count": 14,
     "metadata": {},
     "output_type": "execute_result"
    }
   ],
   "source": [
    "df_rec = recom.to_dataframe()\n",
    "print(df_rec.shape)\n",
    "df_rec.head()"
   ]
  },
  {
   "cell_type": "markdown",
   "metadata": {},
   "source": [
    "## Output Dataframe\n",
    "\n",
    "    Contains all recommendations"
   ]
  },
  {
   "cell_type": "code",
   "execution_count": 24,
   "metadata": {},
   "outputs": [],
   "source": [
    "def create_output(model, users_to_recommend, n_rec, print_csv=True):\n",
    "    recomendation = model\n",
    "    #recomendation = model.recommend(users=users_to_recommend, k=n_rec)\n",
    "    df_rec = recomendation.to_dataframe()\n",
    "    df_rec['recommendedProducts'] = df_rec.groupby([user_id])[item_id] \\\n",
    "        .transform(lambda x: '|'.join(x.astype(str)))\n",
    "    df_output = df_rec[['COD_CLIENTE', 'recommendedProducts']].drop_duplicates() \\\n",
    "        .sort_values('COD_CLIENTE').set_index('COD_CLIENTE')\n",
    "    if print_csv:\n",
    "        df_output.to_csv('output.csv', sep=';')\n",
    "        print(\"An output file can be found with name 'output.csv'\")\n",
    "    return df_output"
   ]
  },
  {
   "cell_type": "code",
   "execution_count": 25,
   "metadata": {},
   "outputs": [
    {
     "name": "stdout",
     "output_type": "stream",
     "text": [
      "An output file can be found with name 'output.csv'\n",
      "(217013, 1)\n"
     ]
    },
    {
     "data": {
      "text/html": [
       "<div>\n",
       "<style scoped>\n",
       "    .dataframe tbody tr th:only-of-type {\n",
       "        vertical-align: middle;\n",
       "    }\n",
       "\n",
       "    .dataframe tbody tr th {\n",
       "        vertical-align: top;\n",
       "    }\n",
       "\n",
       "    .dataframe thead th {\n",
       "        text-align: right;\n",
       "    }\n",
       "</style>\n",
       "<table border=\"1\" class=\"dataframe\">\n",
       "  <thead>\n",
       "    <tr style=\"text-align: right;\">\n",
       "      <th></th>\n",
       "      <th>recommendedProducts</th>\n",
       "    </tr>\n",
       "    <tr>\n",
       "      <th>COD_CLIENTE</th>\n",
       "      <th></th>\n",
       "    </tr>\n",
       "  </thead>\n",
       "  <tbody>\n",
       "    <tr>\n",
       "      <th>000P3D01</th>\n",
       "      <td>15558|26460|19729|26589|24526|24632|26588|1453...</td>\n",
       "    </tr>\n",
       "    <tr>\n",
       "      <th>000P3J01</th>\n",
       "      <td>18662|18247|17868|17591|17372|15713|15712|1555...</td>\n",
       "    </tr>\n",
       "    <tr>\n",
       "      <th>000P4C01</th>\n",
       "      <td>18662|18247|17868|17591|17372|15713|15712|1555...</td>\n",
       "    </tr>\n",
       "    <tr>\n",
       "      <th>000P4M01</th>\n",
       "      <td>18662|18247|17868|17591|17372|15713|15712|1555...</td>\n",
       "    </tr>\n",
       "    <tr>\n",
       "      <th>000P4X01</th>\n",
       "      <td>18662|18247|17868|17591|17372|15713|15712|1555...</td>\n",
       "    </tr>\n",
       "  </tbody>\n",
       "</table>\n",
       "</div>"
      ],
      "text/plain": [
       "                                           recommendedProducts\n",
       "COD_CLIENTE                                                   \n",
       "000P3D01     15558|26460|19729|26589|24526|24632|26588|1453...\n",
       "000P3J01     18662|18247|17868|17591|17372|15713|15712|1555...\n",
       "000P4C01     18662|18247|17868|17591|17372|15713|15712|1555...\n",
       "000P4M01     18662|18247|17868|17591|17372|15713|15712|1555...\n",
       "000P4X01     18662|18247|17868|17591|17372|15713|15712|1555..."
      ]
     },
     "execution_count": 25,
     "metadata": {},
     "output_type": "execute_result"
    }
   ],
   "source": [
    "op = create_output(recom, users_to_recommend, 10, print_csv=True )\n",
    "print(op.shape)\n",
    "op.head()"
   ]
  },
  {
   "cell_type": "markdown",
   "metadata": {},
   "source": [
    "## Customer Recommendation\n",
    "\n",
    "### Given a 'Client Code', shows all suggested products"
   ]
  },
  {
   "cell_type": "code",
   "execution_count": 28,
   "metadata": {},
   "outputs": [],
   "source": [
    "def customer_recomendation(customer_id):\n",
    "    if customer_id not in op.index:\n",
    "        print('Customer not found.')\n",
    "        return customer_id\n",
    "    return op.loc[customer_id]"
   ]
  },
  {
   "cell_type": "code",
   "execution_count": 30,
   "metadata": {},
   "outputs": [
    {
     "data": {
      "text/plain": [
       "recommendedProducts    18662|18247|17868|17591|17372|15713|15712|1555...\n",
       "Name: 000P3J01, dtype: object"
      ]
     },
     "execution_count": 30,
     "metadata": {},
     "output_type": "execute_result"
    }
   ],
   "source": [
    "customer_recomendation('000P3J01')"
   ]
  },
  {
   "cell_type": "code",
   "execution_count": null,
   "metadata": {},
   "outputs": [],
   "source": []
  }
 ],
 "metadata": {
  "kernelspec": {
   "display_name": "Python 3",
   "language": "python",
   "name": "python3"
  },
  "language_info": {
   "codemirror_mode": {
    "name": "ipython",
    "version": 3
   },
   "file_extension": ".py",
   "mimetype": "text/x-python",
   "name": "python",
   "nbconvert_exporter": "python",
   "pygments_lexer": "ipython3",
   "version": "3.6.9"
  }
 },
 "nbformat": 4,
 "nbformat_minor": 4
}
